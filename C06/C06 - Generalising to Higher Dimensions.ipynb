{
 "cells": [
  {
   "cell_type": "markdown",
   "id": "29a7494e-0382-41de-bad8-7447160ea76c",
   "metadata": {},
   "source": [
    "# Chapter 6 - Generalising to higher dimensions"
   ]
  },
  {
   "cell_type": "code",
   "execution_count": 14,
   "id": "deb2eba4-8305-4e7c-ba13-63a03c52e569",
   "metadata": {},
   "outputs": [],
   "source": [
    "from matplotlib import pyplot as plt"
   ]
  },
  {
   "cell_type": "code",
   "execution_count": 1,
   "id": "27a4eee5-bfc8-4270-b6b7-8f4fddde874b",
   "metadata": {},
   "outputs": [
    {
     "name": "stdout",
     "output_type": "stream",
     "text": [
      "Vec2(5, 2)\n",
      "Vec2(20, 15)\n",
      "True\n",
      "Vec2(40, 30)\n",
      "Vec2(40, 30)\n"
     ]
    }
   ],
   "source": [
    "# 2D Vectors\n",
    "class Vec2():\n",
    "    def __init__(self, x, y):\n",
    "        self.x = x\n",
    "        self.y = y\n",
    "\n",
    "    def add(self, v2):\n",
    "        return Vec2(self.x + v2.x, self.y + v2.y)\n",
    "\n",
    "    def scale(self, scalar):\n",
    "        return Vec2(self.x * scalar, self.y * scalar)\n",
    "\n",
    "    def __eq__(self, other):\n",
    "        return self.x == other.x and self.y == other.y\n",
    "\n",
    "    def __add__(self, v2):\n",
    "        return self.add(v2)\n",
    "\n",
    "    def __mul__(self, scalar):\n",
    "        return self.scale(scalar)\n",
    "\n",
    "    def __rmul__(self, scalar):\n",
    "        return self.scale(scalar)\n",
    "        \n",
    "\n",
    "    def __repr__(self):\n",
    "        return f\"Vec2({self.x}, {self.y})\"\n",
    "\n",
    "\n",
    "print(Vec2(4,3).add(Vec2(1,-1)))\n",
    "print(Vec2(4,3).scale(5))\n",
    "print(Vec2(3,4) == Vec2(3,4))\n",
    "print(Vec2(4,3) * 10)\n",
    "print(10 * Vec2(4,3))"
   ]
  },
  {
   "cell_type": "code",
   "execution_count": 2,
   "id": "c518d4be-378a-44f4-9f85-777cfb21a86d",
   "metadata": {},
   "outputs": [
    {
     "name": "stdout",
     "output_type": "stream",
     "text": [
      "Vec3(1,2,3)\n",
      "Vec3(2,4,6)\n",
      "True\n"
     ]
    }
   ],
   "source": [
    "# 3D Vectors\n",
    "class Vec3():\n",
    "    def __init__(self,x,y,z):\n",
    "        self.x = x\n",
    "        self.y = y\n",
    "        self.z = z\n",
    "\n",
    "    def add(self, other):\n",
    "        return Vec3(self.x + other.x, self.y + other.y, self.z + other.z)\n",
    "\n",
    "    def scale(self,scalar):\n",
    "        return Vec3(self.x * scalar, self.y * scalar, self.z * scalar)\n",
    "\n",
    "    def __eq__(self,other):\n",
    "        return (self.x == other.x and self.y == other.y and self.z == other.z)\n",
    "\n",
    "    def __add__(self, other):\n",
    "        return self.add(other)\n",
    "\n",
    "    def __mul__(self, scalar):\n",
    "        return self.scale(scalar)\n",
    "\n",
    "    def __rmul__(self, scalar):\n",
    "        return self.scale(scalar)\n",
    "\n",
    "    def __repr__(self):\n",
    "        return f\"Vec3({self.x},{self.y},{self.z})\"\n",
    "\n",
    "print(Vec3(1,2,3))\n",
    "print(Vec3(1,2,3) * 2)\n",
    "print(Vec3(1,2,3) == Vec3(1,2,3))"
   ]
  },
  {
   "cell_type": "code",
   "execution_count": 3,
   "id": "bba545d3-afa4-406b-bcfe-fb9454490ddf",
   "metadata": {},
   "outputs": [],
   "source": [
    "from abc import ABCMeta, abstractmethod, abstractproperty\n",
    "\n",
    "class Vector(metaclass=ABCMeta):\n",
    "    @abstractmethod\n",
    "    def scale(self, scalar):\n",
    "        pass\n",
    "\n",
    "    @abstractmethod\n",
    "    def add(self, other):\n",
    "        pass\n",
    "\n",
    "    @classmethod\n",
    "    @abstractproperty\n",
    "    def zero(cls):\n",
    "        pass\n",
    "\n",
    "    def __neg__(self):\n",
    "        return self.scale(-1)    \n",
    "\n",
    "    def __add__(self, other):\n",
    "        return self.add(other)\n",
    "\n",
    "    def __mul__(self, scalar):\n",
    "        return self.scale(scalar)\n",
    "\n",
    "    def __rmul__(self, scalar):\n",
    "        return self.scale(scalar)\n",
    "\n",
    "    def __truediv__(self, scalar):\n",
    "        return self.scale(1.0/scalar)\n",
    "\n",
    "    def subtract(self, other):\n",
    "        return self.add(-1 * other)\n",
    "\n",
    "    def __sub__(self, other):\n",
    "        return self.subtract()\n"
   ]
  },
  {
   "cell_type": "code",
   "execution_count": 4,
   "id": "33d06d7f-82c4-4b09-9f06-a4bf3950dd1d",
   "metadata": {},
   "outputs": [],
   "source": [
    "from math import isclose\n",
    "\n",
    "class Vec2(Vector):\n",
    "    def __init__(self, x, y):\n",
    "        self.x = x\n",
    "        self.y = y\n",
    "\n",
    "    def add(self, v2):\n",
    "        assert self.__class__ == other.__class__\n",
    "        return Vec2(self.x + v2.x, self.y + v2.y)\n",
    "\n",
    "    def scale(self, scalar):\n",
    "        return Vec2(self.x * scalar, self.y * scalar)\n",
    "\n",
    "    def zero(self):\n",
    "        return Vec2(0,0)\n",
    "\n",
    "    def approx_equal_vec2(self, other):\n",
    "        return isclose(self.x, other.x) and isclose(self.y, other.y)\n",
    "\n",
    "    def __eq__(self, other):\n",
    "        assert self.__class__ == other.__class__\n",
    "        return self.approx_equal_vec2(other)\n",
    "\n",
    "    def __repr__(self):\n",
    "        return f\"Vec2({self.x}, {self.y})\""
   ]
  },
  {
   "cell_type": "code",
   "execution_count": 5,
   "id": "c769fb0d-41bc-4257-b04a-9faa5761ddb0",
   "metadata": {},
   "outputs": [],
   "source": [
    "class Vec3(Vector):\n",
    "    def __init__(self, x, y, z):\n",
    "        self.x = x\n",
    "        self.y = y\n",
    "        self.z = z\n",
    "\n",
    "    def add(self, other):\n",
    "        return Vec3(self.x + other.x,\n",
    "                    self.y + other.y,\n",
    "                    self.z + other.z)\n",
    "\n",
    "    def scale(self, scalar):\n",
    "        return Vec3(self.x * scalar,\n",
    "                    self.y * scalar,\n",
    "                    self.z * scalar)\n",
    "\n",
    "    def approx_equal_vec3(self, other):\n",
    "        return isclose(self.x, other.x) and isclose(self.y, other.y) and isclose(self.z, other.z)\n",
    "\n",
    "    def __eq__(self, other):\n",
    "         return self.approx_equal_vec3(other) \n",
    "\n",
    "    def __repr__(self):\n",
    "        return f\"Vec3({self.x}, {self.y}, {self.z})\""
   ]
  },
  {
   "cell_type": "code",
   "execution_count": 6,
   "id": "2246dc38-0e3b-450c-aaaf-450334b66042",
   "metadata": {},
   "outputs": [],
   "source": [
    "from abc import abstractproperty\n",
    "def add(*vectors):\n",
    "    return tuple(map(sum,zip(*vectors)))\n",
    "\n",
    "def subtract(v1,v2):\n",
    "    return tuple(v1-v2 for (v1,v2) in zip(v1,v2))\n",
    "\n",
    "def length(v):\n",
    "    return sqrt(sum([coord ** 2 for coord in v]))\n",
    "\n",
    "def dot(u,v):\n",
    "    return sum([coord1 * coord2 for coord1,coord2 in zip(u,v)])\n",
    "\n",
    "def distance(v1,v2):\n",
    "    return length(subtract(v1,v2))\n",
    "\n",
    "def perimeter(vectors):\n",
    "    distances = [distance(vectors[i], vectors[(i+1)%len(vectors)])\n",
    "                    for i in range(0,len(vectors))]\n",
    "    return sum(distances)\n",
    "\n",
    "def scale(scalar,v):\n",
    "    return tuple(scalar * coord for coord in v)\n",
    "    \n",
    "class CoordinateVector(Vector):\n",
    "    @abstractproperty\n",
    "    def dimension(self):\n",
    "        pass\n",
    "\n",
    "    def __init__(self, *coordinates):\n",
    "        self.coordinates = tuple(x for x in coordinates)\n",
    "\n",
    "    def add(self,other):\n",
    "        return self.__class__(*add(self.coordinates, other.coordinates))\n",
    "\n",
    "    def scale(self,scalar):\n",
    "        return self.__class__(*scale(scalar, self.coordinates))\n",
    "\n",
    "    def __repr__(self):\n",
    "        return f\"{self.__class__.__qualname__}{self.coordinates}\"\n",
    "\n"
   ]
  },
  {
   "cell_type": "code",
   "execution_count": 7,
   "id": "3e2cbff0-2096-4460-b136-d8af67eb3e2f",
   "metadata": {},
   "outputs": [],
   "source": [
    "class Vec6(CoordinateVector):\n",
    "    def dimension(self):\n",
    "        return 6"
   ]
  },
  {
   "cell_type": "code",
   "execution_count": 8,
   "id": "4430f5be-0575-44aa-a311-59f5b7ef9400",
   "metadata": {},
   "outputs": [
    {
     "data": {
      "text/plain": [
       "Vec6(12, 14, 16, 18, 20, 22)"
      ]
     },
     "execution_count": 8,
     "metadata": {},
     "output_type": "execute_result"
    }
   ],
   "source": [
    "Vec6(1,2,3,4,5,6) + Vec6(11,12,13,14,15,16)"
   ]
  },
  {
   "cell_type": "code",
   "execution_count": 9,
   "id": "67dc1e4c-9eda-49bc-8fbf-c4af46d891e2",
   "metadata": {},
   "outputs": [],
   "source": [
    "class CarForSale():\n",
    "    def __init__(self, model_year, mileage, price, posted_datetime, \n",
    "                 model, source, location, description):\n",
    "        self.model_year = model_year\n",
    "        self.mileage = mileage\n",
    "        self.price = price\n",
    "        self.posted_datetime = posted_datetime\n",
    "        self.model = model\n",
    "        self.source = source\n",
    "        self.location = location\n",
    "        self.description = description"
   ]
  },
  {
   "cell_type": "code",
   "execution_count": 10,
   "id": "20257303-8719-4625-b71c-bbe424524527",
   "metadata": {},
   "outputs": [],
   "source": [
    "from datetime import datetime\n",
    "\n",
    "class CarForSale(Vector):\n",
    "    retrieved_date = datetime(2018,11,30,12) #1\n",
    "    def __init__(self, model_year, mileage, price, posted_datetime, \n",
    "                 model=\"(virtual)\", source=\"(virtual)\", #2\n",
    "                 location=\"(virtual)\", description=\"(virtual)\"):\n",
    "        self.model_year = model_year\n",
    "        self.mileage = mileage\n",
    "        self.price = price\n",
    "        self.posted_datetime = posted_datetime\n",
    "        self.model = model\n",
    "        self.source = source\n",
    "        self.location = location\n",
    "        self.description = description\n",
    "    def add(self, other):\n",
    "        def add_dates(d1, d2): #3\n",
    "            age1 = CarForSale.retrieved_date - d1\n",
    "            age2 = CarForSale.retrieved_date - d2\n",
    "            sum_age = age1 + age2\n",
    "            return CarForSale.retrieved_date - sum_age\n",
    "        return CarForSale( #4\n",
    "            self.model_year + other.model_year,\n",
    "            self.mileage + other.mileage,\n",
    "            self.price + other.price,\n",
    "            add_dates(self.posted_datetime, other.posted_datetime)\n",
    "        )\n",
    "    def scale(self,scalar):\n",
    "        def scale_date(d): #5\n",
    "            age = CarForSale.retrieved_date - d\n",
    "            return CarForSale.retrieved_date - (scalar * age)\n",
    "        return CarForSale(\n",
    "            scalar * self.model_year,\n",
    "            scalar * self.mileage,\n",
    "            scalar * self.price,\n",
    "            scale_date(self.posted_datetime)\n",
    "        )\n",
    "    @classmethod\n",
    "    def zero(cls):\n",
    "        return CarForSale(0, 0, 0, CarForSale.retrieved_date)"
   ]
  },
  {
   "cell_type": "code",
   "execution_count": 12,
   "id": "30ad13d7-9327-45a8-8446-a1f7305f7143",
   "metadata": {},
   "outputs": [],
   "source": [
    "class LinearFunction(Vector):\n",
    "    def __init__(self, a, b):\n",
    "        self.a = a\n",
    "        self.b = b\n",
    "\n",
    "    def add(self, v):\n",
    "        return LinearFunction(self.a + v.a, self.b + v.b)\n",
    "    def scale(self, scalar):\n",
    "        return LinearFunction(scalar * self.a, scalar * self.b)\n",
    "    def __call__(self, input):\n",
    "        return self.x * input + self.y\n",
    "    @classmethod\n",
    "    def zero(cls):\n",
    "        return LinearFunction(0,0,)"
   ]
  },
  {
   "cell_type": "code",
   "execution_count": 18,
   "id": "d5b8299f-61ff-49db-883f-f5606e3d2797",
   "metadata": {},
   "outputs": [
    {
     "data": {
      "image/png": "[encoded data removed]",
      "text/plain": [
       "<Figure size 640x480 with 1 Axes>"
      ]
     },
     "metadata": {},
     "output_type": "display_data"
    }
   ],
   "source": [
    "# plotting utility function for functions in this chapter\n",
    "import numpy as np\n",
    "import matplotlib.pyplot as plt\n",
    "from math import sin\n",
    "\n",
    "def plot(fs, xmin, xmax):\n",
    "    xs = np.linspace(xmin,xmax,100)\n",
    "    fig, ax = plt.subplots()\n",
    "    ax.axhline(y=0, color='k')\n",
    "    ax.axvline(x=0, color='k')\n",
    "    for f in fs:\n",
    "        ys = [f(x) for x in xs]\n",
    "        plt.plot(xs,ys)\n",
    "        \n",
    "plot([LinearFunction(-2,2)], -5,4)"
   ]
  },
  {
   "cell_type": "code",
   "execution_count": 29,
   "id": "596df5f4-9091-4c41-984d-7fef14fdddc1",
   "metadata": {},
   "outputs": [],
   "source": [
    "from random import uniform, randint\n",
    "\n",
    "def random_scalar():\n",
    "    return uniform(-10,10)\n",
    "\n",
    "def random_vec2():\n",
    "    return Vec2(random_scalar(),random_scalar())"
   ]
  },
  {
   "cell_type": "code",
   "execution_count": null,
   "id": "ad5d31bc-5126-46b4-aa87-bef637f44096",
   "metadata": {},
   "outputs": [],
   "source": []
  },
  {
   "cell_type": "code",
   "execution_count": 30,
   "id": "042268ba-37ea-4d39-bd4a-998a507f5fba",
   "metadata": {},
   "outputs": [
    {
     "ename": "TypeError",
     "evalue": "Vec2.zero() missing 1 required positional argument: 'self'",
     "output_type": "error",
     "traceback": [
      "\u001b[0;31m---------------------------------------------------------------------------\u001b[0m",
      "\u001b[0;31mTypeError\u001b[0m                                 Traceback (most recent call last)",
      "Cell \u001b[0;32mIn[30], line 16\u001b[0m\n\u001b[1;32m     14\u001b[0m a,b \u001b[38;5;241m=\u001b[39m random_scalar(), random_scalar()\n\u001b[1;32m     15\u001b[0m u,v,w \u001b[38;5;241m=\u001b[39m random_vec2(), random_vec2(), random_vec2()\n\u001b[0;32m---> 16\u001b[0m test(\u001b[43mVec2\u001b[49m\u001b[38;5;241;43m.\u001b[39;49m\u001b[43mzero\u001b[49m\u001b[43m(\u001b[49m\u001b[43m)\u001b[49m, approx_equal_vec2, a,b,u,v,w)\n",
      "\u001b[0;31mTypeError\u001b[0m: Vec2.zero() missing 1 required positional argument: 'self'"
     ]
    }
   ],
   "source": [
    "def test(zero, eq, a, b, u, v, w):\n",
    "    assert eq(u + v, v + u)\n",
    "    assert eq(u + (v + w), (u + v) + w)\n",
    "    assert eq(a * (b * v), (a * b) * v)\n",
    "    assert eq(1 * v, v)\n",
    "    assert eq((a + b) * v, a * v + b * v)\n",
    "    assert eq(a * v + a * w, a * (v + w))\n",
    "    #new tests\n",
    "    assert eq(zero + v, v)\n",
    "    assert eq(0 * v, zero)\n",
    "    assert eq(-v + v, zero)\n",
    "    \n",
    "for i in range(0,100):\n",
    "    a,b = random_scalar(), random_scalar()\n",
    "    u,v,w = random_vec2(), random_vec2(), random_vec2()\n",
    "    test(Vec2.zero(), approx_equal_vec2, a,b,u,v,w)"
   ]
  },
  {
   "cell_type": "code",
   "execution_count": 24,
   "id": "fb4437fe-a638-49ff-bc62-e8c658413548",
   "metadata": {},
   "outputs": [],
   "source": [
    "class Function(Vector):\n",
    "    def __init__(self, f):\n",
    "        self.function = f\n",
    "    def add(self, other):\n",
    "        return Function(lambda x: self.function(x) + other.function(x))\n",
    "    def scale(self, scalar):\n",
    "        return Function(lambda x: scalar * self.function(x))\n",
    "    @classmethod\n",
    "    def zero(cls):\n",
    "        return Function(lambda x: 0)\n",
    "    def __call__(self, arg):\n",
    "        return self.function(arg)"
   ]
  },
  {
   "cell_type": "code",
   "execution_count": 27,
   "id": "2de53305-044a-4d23-9c69-f90daafaf144",
   "metadata": {},
   "outputs": [
    {
     "ename": "NameError",
     "evalue": "name 'test' is not defined",
     "output_type": "error",
     "traceback": [
      "\u001b[0;31m---------------------------------------------------------------------------\u001b[0m",
      "\u001b[0;31mNameError\u001b[0m                                 Traceback (most recent call last)",
      "Cell \u001b[0;32mIn[27], line 29\u001b[0m\n\u001b[1;32m     27\u001b[0m a,b \u001b[38;5;241m=\u001b[39m random_scalar(), random_scalar()\n\u001b[1;32m     28\u001b[0m u,v,w \u001b[38;5;241m=\u001b[39m random_function(), random_function(), random_function()\n\u001b[0;32m---> 29\u001b[0m \u001b[43mtest\u001b[49m(Function\u001b[38;5;241m.\u001b[39mzero(), approx_equal_function, a,b,u,v,w)\n",
      "\u001b[0;31mNameError\u001b[0m: name 'test' is not defined"
     ]
    }
   ],
   "source": [
    "class Polynomial(Vector):\n",
    "    def __init__(self, *coefficients):\n",
    "        self.coefficients = coefficients\n",
    "    def __call__(self,x):\n",
    "        return sum(coefficient * x ** power for (power,coefficient) in enumerate(self.coefficients))\n",
    "    def add(self,p):\n",
    "        return Polynomial([a + b for a,b in zip(self.coefficients, p.coefficients)])\n",
    "    def scale(self,scalar):\n",
    "        return Polynomial([scalar * a for a in self.coefficients])\n",
    "    def _repr_latex_(self):\n",
    "        monomials = [repr(coefficient) if power == 0 \n",
    "                               else \"x ^ {%d}\" % power if coefficient == 1\n",
    "                               else \"%s x ^ {%d}\" % (coefficient,power) \n",
    "                               for (power,coefficient) in enumerate(self.coefficients) \n",
    "                               if coefficient != 0]\n",
    "        return \"$ %s $\" % (\" + \".join(monomials))\n",
    "    @classmethod\n",
    "    def zero(cls):\n",
    "        return Polynomial(0)\n",
    "\n",
    "def random_function():\n",
    "    degree = randint(0,5)\n",
    "    p = Polynomial(*[uniform(-10,10) for _ in range(0,degree)])\n",
    "    return Function(lambda x: p(x))\n",
    "\n",
    "for i in range(0,100):\n",
    "    a,b = random_scalar(), random_scalar()\n",
    "    u,v,w = random_function(), random_function(), random_function()\n",
    "    test(Function.zero(), approx_equal_function, a,b,u,v,w)"
   ]
  },
  {
   "cell_type": "code",
   "execution_count": null,
   "id": "7082cbb3-835c-420c-9e2e-0bf336fbec64",
   "metadata": {},
   "outputs": [],
   "source": []
  },
  {
   "cell_type": "code",
   "execution_count": null,
   "id": "73ea9983-2cbb-455a-9474-cbe20c29249a",
   "metadata": {},
   "outputs": [],
   "source": []
  }
 ],
 "metadata": {
  "kernelspec": {
   "display_name": "Python 3 (ipykernel)",
   "language": "python",
   "name": "python3"
  },
  "language_info": {
   "codemirror_mode": {
    "name": "ipython",
    "version": 3
   },
   "file_extension": ".py",
   "mimetype": "text/x-python",
   "name": "python",
   "nbconvert_exporter": "python",
   "pygments_lexer": "ipython3",
   "version": "3.12.7"
  }
 },
 "nbformat": 4,
 "nbformat_minor": 5
}
