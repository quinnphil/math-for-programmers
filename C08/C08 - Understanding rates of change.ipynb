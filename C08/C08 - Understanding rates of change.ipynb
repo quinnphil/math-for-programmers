{
 "cells": [
  {
   "cell_type": "markdown",
   "id": "ebd557f0-fabf-4f1a-91eb-7fb69e0761a0",
   "metadata": {},
   "source": [
    "Chapter 08 - Understanding rates of change\n",
    "=========================================="
   ]
  },
  {
   "cell_type": "code",
   "execution_count": null,
   "id": "185f3dd9-f313-4477-b67c-be42e275647b",
   "metadata": {},
   "outputs": [],
   "source": []
  }
 ],
 "metadata": {
  "kernelspec": {
   "display_name": "Python 3 (ipykernel)",
   "language": "python",
   "name": "python3"
  },
  "language_info": {
   "codemirror_mode": {
    "name": "ipython",
    "version": 3
   },
   "file_extension": ".py",
   "mimetype": "text/x-python",
   "name": "python",
   "nbconvert_exporter": "python",
   "pygments_lexer": "ipython3",
   "version": "3.12.7"
  }
 },
 "nbformat": 4,
 "nbformat_minor": 5
}
