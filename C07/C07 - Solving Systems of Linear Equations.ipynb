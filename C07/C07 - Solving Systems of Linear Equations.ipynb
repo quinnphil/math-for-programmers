{
 "cells": [
  {
   "cell_type": "markdown",
   "id": "9ba8a5d0-d49e-47d5-ad08-6bf95d9e893a",
   "metadata": {},
   "source": [
    "Chapter 7 - Solving Systems of Linear Equations\n",
    "==============================================="
   ]
  },
  {
   "cell_type": "code",
   "execution_count": 1,
   "id": "0b552119-3ab0-40a1-b04d-7c1b4c557664",
   "metadata": {},
   "outputs": [
    {
     "name": "stdout",
     "output_type": "stream",
     "text": [
      "foo=20\n"
     ]
    }
   ],
   "source": [
    "foo=20\n",
    "\n",
    "print(f\"{foo=}\")"
   ]
  }
 ],
 "metadata": {
  "kernelspec": {
   "display_name": "Python 3 (ipykernel)",
   "language": "python",
   "name": "python3"
  },
  "language_info": {
   "codemirror_mode": {
    "name": "ipython",
    "version": 3
   },
   "file_extension": ".py",
   "mimetype": "text/x-python",
   "name": "python",
   "nbconvert_exporter": "python",
   "pygments_lexer": "ipython3",
   "version": "3.12.8"
  }
 },
 "nbformat": 4,
 "nbformat_minor": 5
}
