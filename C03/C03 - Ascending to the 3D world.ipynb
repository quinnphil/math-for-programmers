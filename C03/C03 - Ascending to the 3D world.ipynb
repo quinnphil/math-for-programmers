{
 "cells": [
  {
   "cell_type": "markdown",
   "id": "c45a20c1-0533-406f-ab7e-f90eec9b5007",
   "metadata": {},
   "source": [
    "C03 - Ascending to the 3D World\n",
    "==============================="
   ]
  },
  {
   "cell_type": "code",
   "execution_count": null,
   "id": "21eee63f-16df-4859-adbc-1f910559e642",
   "metadata": {},
   "outputs": [],
   "source": []
  }
 ],
 "metadata": {
  "kernelspec": {
   "display_name": "Python 3 (ipykernel)",
   "language": "python",
   "name": "python3"
  },
  "language_info": {
   "codemirror_mode": {
    "name": "ipython",
    "version": 3
   },
   "file_extension": ".py",
   "mimetype": "text/x-python",
   "name": "python",
   "nbconvert_exporter": "python",
   "pygments_lexer": "ipython3",
   "version": "3.10.6"
  }
 },
 "nbformat": 4,
 "nbformat_minor": 5
}
